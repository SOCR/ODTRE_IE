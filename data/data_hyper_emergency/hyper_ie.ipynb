{
 "cells": [
  {
   "cell_type": "markdown",
   "metadata": {},
   "source": [
    "# Extract height/weight/smoke from notes.csv"
   ]
  },
  {
   "cell_type": "code",
   "execution_count": 1,
   "metadata": {},
   "outputs": [],
   "source": [
    "import pandas as pd\n",
    "import re\n",
    "import numpy as np"
   ]
  },
  {
   "cell_type": "code",
   "execution_count": 5,
   "metadata": {},
   "outputs": [],
   "source": [
    "# Load in data\n",
    "text_a1 = pd.read_csv(\"notes.csv\")"
   ]
  },
  {
   "cell_type": "code",
   "execution_count": 6,
   "metadata": {},
   "outputs": [
    {
     "name": "stderr",
     "output_type": "stream",
     "text": [
      "/Library/Frameworks/Python.framework/Versions/3.8/lib/python3.8/site-packages/pandas/core/indexing.py:1817: SettingWithCopyWarning: \n",
      "A value is trying to be set on a copy of a slice from a DataFrame.\n",
      "Try using .loc[row_indexer,col_indexer] = value instead\n",
      "\n",
      "See the caveats in the documentation: https://pandas.pydata.org/pandas-docs/stable/user_guide/indexing.html#returning-a-view-versus-a-copy\n",
      "  self._setitem_single_column(loc, value, pi)\n"
     ]
    }
   ],
   "source": [
    "text = text_a1[[\"SUBJECT_ID\",\"CATEGORY\",\"TEXT\"]]\n",
    "for i in range(text.shape[0]):\n",
    "    text.loc[i,\"TEXT\"] = re.sub(r\"\\n|_|\\*\\*\",\" \",text[\"TEXT\"][i])"
   ]
  },
  {
   "cell_type": "markdown",
   "metadata": {},
   "source": [
    "# Smoking"
   ]
  },
  {
   "cell_type": "code",
   "execution_count": 7,
   "metadata": {},
   "outputs": [],
   "source": [
    "def findWholeWord(w):\n",
    "    return re.compile(r'\\b({0})(\\.|\\b)'.format(w),\n",
    "                      flags=re.IGNORECASE).search\n",
    "\n",
    "\n",
    "indx = \\\n",
    "    [findWholeWord('smoke|smoking|smoked|smoker|tobacco|tobaccos|tob|nicotine|cigar|cigars|cig|cigs|cigarette|cigarettes'\n",
    "     )(i) for i in text['TEXT']]\n",
    "a = text.index\n",
    "sbp = list()\n",
    "for (j, i) in enumerate(indx):\n",
    "    if i is not None:\n",
    "        matches = re.search(r\"((\\S+\\s+){0,4}(\\S+\\W?)?)\" + i.groups()[0]\n",
    "                            + \"(\\W?(\\s+\\S+){0,4})\", text['TEXT'\n",
    "                            ][a[j]]).group()\n",
    "        sbp.append(matches)\n",
    "    else:\n",
    "        sbp.append('')\n"
   ]
  },
  {
   "cell_type": "code",
   "execution_count": 8,
   "metadata": {},
   "outputs": [
    {
     "name": "stderr",
     "output_type": "stream",
     "text": [
      "<ipython-input-8-918fb5294cef>:1: SettingWithCopyWarning: \n",
      "A value is trying to be set on a copy of a slice from a DataFrame.\n",
      "Try using .loc[row_indexer,col_indexer] = value instead\n",
      "\n",
      "See the caveats in the documentation: https://pandas.pydata.org/pandas-docs/stable/user_guide/indexing.html#returning-a-view-versus-a-copy\n",
      "  text[\"smoke\"] = sbp\n"
     ]
    }
   ],
   "source": [
    "text[\"smoke\"] = sbp"
   ]
  },
  {
   "cell_type": "code",
   "execution_count": 9,
   "metadata": {},
   "outputs": [],
   "source": [
    "sbp1 = sbp\n",
    "sbp = [''.join(sbp[i]).lower() for i in range(len(sbp))]\n",
    "nosmk = [i for i in range(len(sbp))\n",
    "         if re.findall('(does not smoke)|(denies smoking)|(no smoking)|(denies tobacco)|(no tobacco)|(tobacco: denies)|(tobacco: none)|(nonsmoker)|(non-smoker)|(nonsmoking)|(non-smoking)'\n",
    "         , sbp[i], re.MULTILINE) != []]\n",
    "nosmkind = np.zeros(text.shape[0])\n",
    "for i in range(len(nosmkind)):\n",
    "    if i in nosmk or sbp[i] == '':\n",
    "        nosmkind[i] = 1"
   ]
  },
  {
   "cell_type": "code",
   "execution_count": 10,
   "metadata": {},
   "outputs": [],
   "source": [
    "smk = int(1) - nosmkind"
   ]
  },
  {
   "cell_type": "code",
   "execution_count": 11,
   "metadata": {},
   "outputs": [
    {
     "name": "stdout",
     "output_type": "stream",
     "text": [
      "percent of patients who smoke =  28.722680913064597 %\n"
     ]
    }
   ],
   "source": [
    "print(\"percent of patients who smoke = \",str(np.mean(smk)*100),\"%\")"
   ]
  },
  {
   "cell_type": "code",
   "execution_count": 12,
   "metadata": {},
   "outputs": [
    {
     "name": "stderr",
     "output_type": "stream",
     "text": [
      "<ipython-input-12-20452c46daec>:1: SettingWithCopyWarning: \n",
      "A value is trying to be set on a copy of a slice from a DataFrame.\n",
      "Try using .loc[row_indexer,col_indexer] = value instead\n",
      "\n",
      "See the caveats in the documentation: https://pandas.pydata.org/pandas-docs/stable/user_guide/indexing.html#returning-a-view-versus-a-copy\n",
      "  text[\"smoke\"]=smk\n"
     ]
    }
   ],
   "source": [
    "text[\"smoke\"]=smk"
   ]
  },
  {
   "cell_type": "markdown",
   "metadata": {},
   "source": [
    "# Weight"
   ]
  },
  {
   "cell_type": "code",
   "execution_count": 13,
   "metadata": {},
   "outputs": [],
   "source": [
    "indxwt = [findWholeWord('weight|wt')(i) for i in text['TEXT']]\n",
    "a = text.index\n",
    "wt = list()\n",
    "for (j, i) in enumerate(indxwt):\n",
    "    if i is not None:\n",
    "        matches = re.search(r\"((\\S+\\s+){0,4}(\\S+\\W?)?)\" + i.groups()[0]\n",
    "                            + \"(?:\\s*\\S+\\s+\\S+\\s+\\S+|$)\", text['TEXT'\n",
    "                            ][a[j]]).group()\n",
    "        wt.append(matches)\n",
    "    else:\n",
    "        wt.append('')"
   ]
  },
  {
   "cell_type": "code",
   "execution_count": 14,
   "metadata": {},
   "outputs": [],
   "source": [
    "wt1 = list()\n",
    "for j in range(len(wt)):\n",
    "    wtn = ''\n",
    "    if len(wt[j]) != 0:\n",
    "        wtn = \\\n",
    "            re.findall(r'((weight|wt|wgt|\\(current\\))\\s?(\\(lb\\))?\\:?\\s?\\d{2,3}\\.?\\d{1,2}\\s?k?)'\n",
    "                       , str.lower(str(wt[j])))\n",
    "        if len(wtn) > 0:\n",
    "            wtn = wtn[0][0]\n",
    "        else:\n",
    "            wtn = ''\n",
    "    wt1.append(wtn)"
   ]
  },
  {
   "cell_type": "code",
   "execution_count": 15,
   "metadata": {},
   "outputs": [],
   "source": [
    "wt2 = list()\n",
    "for i in range(len(wt1)):\n",
    "    temp = re.findall(r'(\\d{2,3}\\.?\\d{1,2})', wt1[i], re.MULTILINE)\n",
    "    if len(temp) > 0:\n",
    "        temp = float(temp[0])\n",
    "    else:\n",
    "        temp = ''\n",
    "    if bool(re.search(r'k$', wt1[i])) == True:\n",
    "        temp = temp * 2.2\n",
    "    wt2.append(temp)"
   ]
  },
  {
   "cell_type": "code",
   "execution_count": 16,
   "metadata": {},
   "outputs": [],
   "source": [
    "d = {\"wt1\":wt1,\"wt2\":wt2}\n",
    "df = pd.DataFrame(data = d)"
   ]
  },
  {
   "cell_type": "code",
   "execution_count": 17,
   "metadata": {},
   "outputs": [
    {
     "name": "stderr",
     "output_type": "stream",
     "text": [
      "<ipython-input-17-2138610528c1>:1: SettingWithCopyWarning: \n",
      "A value is trying to be set on a copy of a slice from a DataFrame.\n",
      "Try using .loc[row_indexer,col_indexer] = value instead\n",
      "\n",
      "See the caveats in the documentation: https://pandas.pydata.org/pandas-docs/stable/user_guide/indexing.html#returning-a-view-versus-a-copy\n",
      "  text['weight'] = wt2\n"
     ]
    }
   ],
   "source": [
    "text['weight'] = wt2"
   ]
  },
  {
   "cell_type": "markdown",
   "metadata": {},
   "source": [
    "# Height"
   ]
  },
  {
   "cell_type": "code",
   "execution_count": 18,
   "metadata": {},
   "outputs": [],
   "source": [
    "indxht = [findWholeWord('height|ht|hgt')(i) for i in text['TEXT']]\n",
    "a = text.index\n",
    "ht = list()\n",
    "for (j, i) in enumerate(indxht):\n",
    "    if i is not None:\n",
    "        matches = re.search(r\"((\\S+\\s+){0,4}(\\S+\\W?)?)\" + i.groups()[0]\n",
    "                            + \"(?:\\s*\\S+\\s+\\S+\\s+\\S+|$)\", text['TEXT'\n",
    "                            ][a[j]]).group()\n",
    "        ht.append(matches)\n",
    "    else:\n",
    "        ht.append('')\n"
   ]
  },
  {
   "cell_type": "code",
   "execution_count": 19,
   "metadata": {},
   "outputs": [],
   "source": [
    "ht1 = list()\n",
    "for j in range(len(ht)):\n",
    "    htn = ''\n",
    "    if len(ht[j]) != 0:\n",
    "        tempstr = str.lower(''.join(ht[j]).replace('\"', '').replace(\"'\"\n",
    "                            , ';').replace(r\"\\\\\", '').replace('[', ''))\n",
    "        htn = \\\n",
    "            re.findall(r'(height\\s*\\:(\\s*\\(in\\)\\s*)*\\d{1,2}\\;*\\s*\\d{1,3})'\n",
    "                       , tempstr)\n",
    "        if len(htn) > 0:\n",
    "            htn = htn[0][0]\n",
    "        else:\n",
    "            htn = ''\n",
    "    ht1.append(htn)"
   ]
  },
  {
   "cell_type": "code",
   "execution_count": 20,
   "metadata": {},
   "outputs": [],
   "source": [
    "ht2 = list()\n",
    "for i in range(len(ht1)):\n",
    "    temp = re.findall(r'(\\d\\s*\\;\\s*\\d{1,2})', ht1[i], re.MULTILINE)\n",
    "    if len(temp) > 0:\n",
    "\n",
    "        # Change foot to inch\n",
    "\n",
    "        temp = float(temp[0].split(';')[0]) * 12 \\\n",
    "            + float(temp[0].split(';')[1])\n",
    "    else:\n",
    "        temp = re.findall(r'(\\d{2,3})', ht1[i], re.MULTILINE)\n",
    "        if len(temp) > 0:\n",
    "            temp = float(temp[0])\n",
    "        else:\n",
    "            temp = ''\n",
    "    ht2.append(temp) "
   ]
  },
  {
   "cell_type": "code",
   "execution_count": 21,
   "metadata": {},
   "outputs": [
    {
     "name": "stderr",
     "output_type": "stream",
     "text": [
      "<ipython-input-21-5d980b3cbe74>:1: SettingWithCopyWarning: \n",
      "A value is trying to be set on a copy of a slice from a DataFrame.\n",
      "Try using .loc[row_indexer,col_indexer] = value instead\n",
      "\n",
      "See the caveats in the documentation: https://pandas.pydata.org/pandas-docs/stable/user_guide/indexing.html#returning-a-view-versus-a-copy\n",
      "  text[\"height\"] = ht2\n"
     ]
    }
   ],
   "source": [
    "text[\"height\"] = ht2"
   ]
  },
  {
   "cell_type": "code",
   "execution_count": 29,
   "metadata": {},
   "outputs": [],
   "source": [
    "text.to_csv('hyper_text_ie.csv', index = False, header = True)"
   ]
  }
 ],
 "metadata": {
  "kernelspec": {
   "display_name": "Python 3",
   "language": "python",
   "name": "python3"
  },
  "language_info": {
   "codemirror_mode": {
    "name": "ipython",
    "version": 3
   },
   "file_extension": ".py",
   "mimetype": "text/x-python",
   "name": "python",
   "nbconvert_exporter": "python",
   "pygments_lexer": "ipython3",
   "version": "3.8.6"
  }
 },
 "nbformat": 4,
 "nbformat_minor": 2
}
