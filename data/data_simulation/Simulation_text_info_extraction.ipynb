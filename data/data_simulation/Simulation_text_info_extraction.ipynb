{
 "cells": [
  {
   "cell_type": "code",
   "execution_count": 41,
   "metadata": {},
   "outputs": [],
   "source": [
    "import pandas as pd\n",
    "import re\n",
    "import numpy as np\n",
    "from random import random\n",
    "from random import randint\n",
    "from random import seed\n",
    "import os"
   ]
  },
  {
   "cell_type": "code",
   "execution_count": 38,
   "metadata": {},
   "outputs": [],
   "source": [
    "#Change directory to data download folder\n",
    "#os.chdir(/path to data download folder)"
   ]
  },
  {
   "cell_type": "markdown",
   "metadata": {},
   "source": [
    "# Load data from Google Cloud Platform (obtained from SQL code)"
   ]
  },
  {
   "cell_type": "code",
   "execution_count": 5,
   "metadata": {},
   "outputs": [],
   "source": [
    "#Merge 3 datasets downloaded from Google Cloud Platform by rows.\n",
    "text_a1 = pd.read_csv(\"first160k.csv\")\n",
    "text_a2 = pd.read_csv(\"second160k.csv\")\n",
    "text_a3 = pd.read_csv(\"third160k.csv\")\n",
    "text_a1[\"TEXT\"]=[re.sub(r\"\\n|_|\\*\\*\",\" \",text_a1[\"TEXT\"][i]) for i in range(text_a1.shape[0])]\n",
    "text_a2[\"TEXT\"]=[re.sub(r\"\\n|_|\\*\\*\",\" \",text_a2[\"TEXT\"][i]) for i in range(text_a2.shape[0])]\n",
    "text_a3[\"TEXT\"]=[re.sub(r\"\\n|_|\\*\\*\",\" \",text_a3[\"TEXT\"][i]) for i in range(text_a3.shape[0])]\n",
    "text_a2.index=text_a2.index+160000\n",
    "text_a3.index=text_a3.index+320000\n",
    "text_a = text_a1.append([text_a2,text_a3])\n",
    "#text_a.shape\n",
    "#(472464, 3)"
   ]
  },
  {
   "cell_type": "markdown",
   "metadata": {},
   "source": [
    "# Generate synthetic text data with smoke status."
   ]
  },
  {
   "cell_type": "markdown",
   "metadata": {},
   "source": [
    "Find records without original smoke info."
   ]
  },
  {
   "cell_type": "code",
   "execution_count": 7,
   "metadata": {},
   "outputs": [],
   "source": [
    "# Extract smoking info function\n",
    "def findWholeWord(w):\n",
    "    '''\n",
    "    Returns a search function that takes a string as an input. \n",
    "    The retuning function states which pattern does the string match.\n",
    "    w: patterns to seach.\n",
    "    '''\n",
    "    return re.compile(r'\\b({0})(\\.|\\b)'.format(w),\n",
    "                      flags=re.IGNORECASE).search\n",
    "\n",
    "# Construct a list of index for if smoking is included in a record\n",
    "indx = \\\n",
    "[findWholeWord('smoke|smoking|smoked|smoker|tobacco|tobaccos|tob|nicotine|cigar|cigars|cig|cigs|cigarette|cigarettes'\n",
    "     )(i) for i in text_a['TEXT']]\n",
    "a = text_a.index\n",
    "smk = list()\n",
    "# Search for the specific sentence with smoking information.\n",
    "for (j, i) in enumerate(indx):\n",
    "    if i is not None:\n",
    "        matches = re.search(r\"((\\S+\\s+){0,4}(\\S+\\W?)?)\" + i.groups()[0]\n",
    "                            + \"(\\W?(\\s+\\S+){0,4})\", text_a['TEXT'\n",
    "                            ][a[j]]).group()\n",
    "        smk.append(matches)\n",
    "    else:\n",
    "        smk.append('')"
   ]
  },
  {
   "cell_type": "code",
   "execution_count": 10,
   "metadata": {},
   "outputs": [],
   "source": [
    "#Filter the original records and obtain records without any somking information.\n",
    "text_a[\"smoke\"] = smk\n",
    "no_smoking_text = text_a[\"TEXT\"][text_a[\"smoke\"]==\"\"]"
   ]
  },
  {
   "cell_type": "markdown",
   "metadata": {},
   "source": [
    "Select records to add smoking information."
   ]
  },
  {
   "cell_type": "code",
   "execution_count": 11,
   "metadata": {},
   "outputs": [],
   "source": [
    "# Filter records without somking information \n",
    "# that includes admission information or chief complaint information.\n",
    "# These records are the ones that normally contain smoking information.\n",
    "nsmk_adm_text = list()\n",
    "for i in no_smoking_text:\n",
    "    if \"Admission Date:\" in  i or \"Chief Complaint:\" in  i:\n",
    "        nsmk_adm_text.append(\"yes\")\n",
    "    else:\n",
    "        nsmk_adm_text.append(\"no\")\n"
   ]
  },
  {
   "cell_type": "code",
   "execution_count": 13,
   "metadata": {},
   "outputs": [],
   "source": [
    "idx=[i for i,j in enumerate(nsmk_adm_text) if j==\"yes\"]\n",
    "no_smoking_text_adm = no_smoking_text.iloc[idx]"
   ]
  },
  {
   "cell_type": "markdown",
   "metadata": {},
   "source": [
    "Generate a set of index for records to generate 45% smokers."
   ]
  },
  {
   "cell_type": "code",
   "execution_count": 14,
   "metadata": {},
   "outputs": [],
   "source": [
    "seed(123)\n",
    "smk_ind = list()\n",
    "for i in range(no_smoking_text_adm.size):\n",
    "    if random()<=0.45:\n",
    "        smk_ind.append(1)\n",
    "    else:\n",
    "        smk_ind.append(0)"
   ]
  },
  {
   "cell_type": "markdown",
   "metadata": {},
   "source": [
    "Insert a random smoking/nonsomoking string in to a random location of the original record."
   ]
  },
  {
   "cell_type": "code",
   "execution_count": 15,
   "metadata": {},
   "outputs": [],
   "source": [
    "# Strings to insert that contains smoking information.\n",
    "smk_text_content = [\"10 pack-year smoking.\",\"100 pack-year tobacco.\",\n",
    "                    \"Tobacco: Quit 30'.\",\"occasional cigar.\",\"10 cigarettes daily.\",\n",
    "                    \"Tobacco: current smoker.\",\"Heavy smoking.\",\"Tobacco: patient quit.\",\n",
    "                    \"cigars daily.\",\"former smoker.\",\"non-smoker\",\n",
    "                   \"Tobacco: denies\",\"Tobacco: none\"]"
   ]
  },
  {
   "cell_type": "code",
   "execution_count": 16,
   "metadata": {},
   "outputs": [],
   "source": [
    "# smoking string are inserted to 45% of the population.\n",
    "# Nonsmoking string are inserted to half of the rest patients.\n",
    "seed(123)\n",
    "pt_smk_data = no_smoking_text_adm\n",
    "for i in range(pt_smk_data.size):\n",
    "    if smk_ind[i] == 1 and ('nonsmoker'\n",
    "                            in str.lower(pt_smk_data.iloc[i])) == False:\n",
    "        temp = pt_smk_data.iloc[i].split(' ')\n",
    "        insert_loc = randint(0, len(temp))\n",
    "        smk_rand = randint(0, 9)\n",
    "        temp_list = [temp[:insert_loc], [smk_text_content[smk_rand]],\n",
    "                     temp[insert_loc:]]\n",
    "        flat_list = []\n",
    "        for sublist in temp_list:\n",
    "            for item in sublist:\n",
    "                flat_list.append(item)\n",
    "        pt_smk_data.iloc[i] = ' '.join(flat_list)\n",
    "    elif random() < 0.5:\n",
    "        temp = pt_smk_data.iloc[i].split(' ')\n",
    "        insert_loc = randint(0, len(temp))\n",
    "        smk_rand = randint(10, 12)\n",
    "        temp_list = [temp[:insert_loc], [smk_text_content[smk_rand]],\n",
    "                     temp[insert_loc:]]\n",
    "        flat_list = []\n",
    "        for sublist in temp_list:\n",
    "            for item in sublist:\n",
    "                flat_list.append(item)\n",
    "        pt_smk_data.iloc[i] = ' '.join(flat_list)"
   ]
  },
  {
   "cell_type": "code",
   "execution_count": 17,
   "metadata": {},
   "outputs": [],
   "source": [
    "# Create synthetic data as a data frame with true smoking status and text as columns.\n",
    "syn_smk_data = pd.DataFrame(list(zip(smk_ind,pt_smk_data)),columns = ['true_smk_status', 'text'])"
   ]
  },
  {
   "cell_type": "markdown",
   "metadata": {},
   "source": [
    "Search for weight info"
   ]
  },
  {
   "cell_type": "code",
   "execution_count": 20,
   "metadata": {},
   "outputs": [],
   "source": [
    "indxwt = [findWholeWord('weight|wt|lb|kg')(i) for i in\n",
    "          syn_smk_data['text']]\n",
    "a = syn_smk_data.index\n",
    "wt = list()\n",
    "for (j, i) in enumerate(indxwt):\n",
    "    if i is not None:\n",
    "        matches = re.findall(r'(?:^|\\S+\\s+\\S+\\s+)' + i.groups()[0]\n",
    "                             + '(?:\\s*\\S+\\s+\\S+\\s+\\S+|$)',\n",
    "                             syn_smk_data['text'][a[j]])\n",
    "        wt.append(matches)\n",
    "    else:\n",
    "        wt.append('')"
   ]
  },
  {
   "cell_type": "code",
   "execution_count": 21,
   "metadata": {},
   "outputs": [],
   "source": [
    "# Find target strings that contains weight information.\n",
    "wt1 = list()\n",
    "for j in range(len(wt)):\n",
    "    wtn = ''\n",
    "    if len(wt[j]) != 0:\n",
    "        wtn = \\\n",
    "            re.findall(r'((weight|wt|\\(current\\))\\s?(\\(lb\\))?\\:?\\s?\\d{2,3}\\.?\\d{1,2}\\s?k?)'\n",
    "                       , str.lower(str(wt[j])))\n",
    "        if len(wtn) > 0:\n",
    "            wtn = wtn[0][0]\n",
    "        else:\n",
    "            wtn = ''\n",
    "    wt1.append(wtn)"
   ]
  },
  {
   "cell_type": "code",
   "execution_count": 22,
   "metadata": {},
   "outputs": [],
   "source": [
    "# Search for numerical values in the target strings.\n",
    "wt2 = list()\n",
    "for i in range(len(wt1)):\n",
    "    temp = re.findall(r'(\\d{2,3}\\.?\\d{1,2})', wt1[i], re.MULTILINE)\n",
    "    if len(temp) > 0:\n",
    "        temp = float(temp[0])\n",
    "    else:\n",
    "        temp = ''\n",
    "    if bool(re.search(r'k$', wt1[i])) == True:\n",
    "        temp = temp * 2.2\n",
    "    wt2.append(temp)"
   ]
  },
  {
   "cell_type": "code",
   "execution_count": 25,
   "metadata": {},
   "outputs": [],
   "source": [
    "syn_smk_data[\"weightlb\"] = wt2"
   ]
  },
  {
   "cell_type": "code",
   "execution_count": 26,
   "metadata": {},
   "outputs": [],
   "source": [
    "smk = list()\n",
    "for i in syn_smk_data.iloc[:][\"text\"]:\n",
    "    j=1-bool((\"nonsmoker\" in str.lower(i)))\n",
    "    smk.append(j)"
   ]
  },
  {
   "cell_type": "code",
   "execution_count": 27,
   "metadata": {},
   "outputs": [],
   "source": [
    "for i in syn_smk_data.index:\n",
    "    if smk[i]==0:\n",
    "        syn_smk_data.loc[i,\"true_smk_status\"]=0"
   ]
  },
  {
   "cell_type": "markdown",
   "metadata": {},
   "source": [
    "Check how many \"smokers\" are created in the simulation data."
   ]
  },
  {
   "cell_type": "code",
   "execution_count": 28,
   "metadata": {},
   "outputs": [
    {
     "data": {
      "text/plain": [
       "0.4446730186227804"
      ]
     },
     "execution_count": 28,
     "metadata": {},
     "output_type": "execute_result"
    }
   ],
   "source": [
    "sum(syn_smk_data[\"true_smk_status\"])/syn_smk_data.shape[0]"
   ]
  },
  {
   "cell_type": "code",
   "execution_count": 26,
   "metadata": {},
   "outputs": [],
   "source": [
    "# Save sim data locally\n",
    "# \n",
    "#syn_smk_data.to_csv ('syn_text_w_smoke.csv', index = False, header=True)"
   ]
  },
  {
   "cell_type": "markdown",
   "metadata": {},
   "source": [
    "# Find Smoking Information from Simulated Clinical Text"
   ]
  },
  {
   "cell_type": "code",
   "execution_count": 33,
   "metadata": {},
   "outputs": [],
   "source": [
    "#Drop an outlier with both smoker and nonsmoker tags in the original text.\n",
    "sim_data = syn_smk_data.drop(17161)"
   ]
  },
  {
   "cell_type": "code",
   "execution_count": 34,
   "metadata": {},
   "outputs": [],
   "source": [
    "# Search if keywords exists\n",
    "indx = \\\n",
    "    [findWholeWord('smoke|smoking|smoked|smoker|tobacco|tobaccos|tob|nicotine|cigar|cigars|cig|cigs|cigarette|cigarettes'\n",
    "     )(i) for i in sim_data['text']]\n",
    "a = sim_data.index\n",
    "smk = list()\n",
    "for (j, i) in enumerate(indx):\n",
    "    if i is not None:\n",
    "        matches = re.search(r\"((\\S+\\s+){0,4}(\\S+\\W?)?)\" + i.groups()[0]\n",
    "                            + \"(\\W?(\\s+\\S+){0,4})\", sim_data['text'\n",
    "                            ][a[j]]).group()\n",
    "        smk.append(matches)\n",
    "    else:\n",
    "        smk.append('')"
   ]
  },
  {
   "cell_type": "code",
   "execution_count": 35,
   "metadata": {},
   "outputs": [],
   "source": [
    "# Seach if negation exists\n",
    "smk1 = smk\n",
    "smk = [''.join(smk[i]).lower() for i in range(len(smk))]\n",
    "nosmk = [i for i in range(len(smk))\n",
    "         if re.findall('(does not smoke)|(denies smoking)|(no smoking)|(denies tobacco)|(tobacco: denies)|(tobacco: none)|(nonsmoker)|(non-smoker)|(nonsmoking)|(non-smoking)'\n",
    "         , smk[i], re.MULTILINE) != []]\n",
    "smk_extract = np.zeros(sim_data.shape[0])\n",
    "for i in range(len(smk_extract)):\n",
    "    if i not in nosmk and smk[i] != '':\n",
    "        smk_extract[i] = 1"
   ]
  },
  {
   "cell_type": "code",
   "execution_count": 36,
   "metadata": {},
   "outputs": [],
   "source": [
    "smk_extract_result = [int(smk_extract[i]) == sim_data.iloc[i][\"true_smk_status\"] for i in range(len(smk_extract))]"
   ]
  },
  {
   "cell_type": "code",
   "execution_count": 37,
   "metadata": {},
   "outputs": [
    {
     "data": {
      "text/plain": [
       "1.0"
      ]
     },
     "execution_count": 37,
     "metadata": {},
     "output_type": "execute_result"
    }
   ],
   "source": [
    "# Extracted agrees with true smoking status 100%.\n",
    "sum(smk_extract_result) / len(smk_extract_result) "
   ]
  },
  {
   "cell_type": "code",
   "execution_count": null,
   "metadata": {},
   "outputs": [],
   "source": [
    "# Save data locally\n",
    "sim_data[\"smk_extract\"] = smk_extract\n",
    "sim_data.to_csv ('sim_data.csv', index = False, header=True)"
   ]
  },
  {
   "cell_type": "code",
   "execution_count": null,
   "metadata": {},
   "outputs": [],
   "source": []
  }
 ],
 "metadata": {
  "kernelspec": {
   "display_name": "Python 3",
   "language": "python",
   "name": "python3"
  },
  "language_info": {
   "codemirror_mode": {
    "name": "ipython",
    "version": 3
   },
   "file_extension": ".py",
   "mimetype": "text/x-python",
   "name": "python",
   "nbconvert_exporter": "python",
   "pygments_lexer": "ipython3",
   "version": "3.8.6"
  }
 },
 "nbformat": 4,
 "nbformat_minor": 2
}
